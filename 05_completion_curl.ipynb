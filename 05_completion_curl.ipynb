{
 "cells": [
  {
   "cell_type": "code",
   "execution_count": 1,
   "metadata": {
    "metadata": {}
   },
   "outputs": [],
   "source": [
    "import os\n",
    "from dotenv import load_dotenv\n",
    "\n",
    "load_dotenv(override=True) # take environment variables from .env.\n",
    "\n",
    "AZURE_OPENAI_RESOURCE_NAME = os.environ[\"AZURE_OPENAI_RESOURCE_NAME\"]\n",
    "AZURE_OPENAI_API_KEY = os.environ[\"AZURE_OPENAI_API_KEY\"]"
   ]
  },
  {
   "cell_type": "markdown",
   "metadata": {},
   "source": [
    "### Define REST url and payload"
   ]
  },
  {
   "cell_type": "code",
   "execution_count": 2,
   "metadata": {
    "metadata": {}
   },
   "outputs": [],
   "source": [
    "AZURE_OPENAI_DEPLOYMENT = \"gpt-35-turbo-instruct-0914\"\n",
    "AZURE_OPENAI_API_VERSION = \"2024-02-01\"\n",
    "\n",
    "api_url = f\"https://{AZURE_OPENAI_RESOURCE_NAME}.openai.azure.com/openai/deployments/{AZURE_OPENAI_DEPLOYMENT}/completions?api-version={AZURE_OPENAI_API_VERSION}\"\n",
    "request_dict = \t\t\t{\n",
    "\t\t\t  \"prompt\": \"An apple a day keeps\",\n",
    "\t\t\t  \"max_tokens\": 12,\n",
    "\t\t\t  \"temperature\": 0,\n",
    "\t\t\t  \"stream\": False\n",
    "\t\t\t}"
   ]
  },
  {
   "cell_type": "markdown",
   "metadata": {},
   "source": [
    "### REST call with curl"
   ]
  },
  {
   "cell_type": "code",
   "execution_count": 19,
   "metadata": {
    "metadata": {}
   },
   "outputs": [],
   "source": [
    "import json\n",
    "\n",
    "sh_command = f'curl {api_url}\\\n",
    "  -H \"Content-Type: application/json\" \\\n",
    "  -H \"api-key: {AZURE_OPENAI_API_KEY}\" \\\n",
    "  -d \"' + json.dumps(request_dict).replace('\"','\\\\\"') + '\"'"
   ]
  },
  {
   "cell_type": "code",
   "execution_count": 22,
   "metadata": {
    "metadata": {}
   },
   "outputs": [],
   "source": [
    "# print(sh_command)"
   ]
  },
  {
   "cell_type": "code",
   "execution_count": 21,
   "metadata": {
    "metadata": {}
   },
   "outputs": [
    {
     "name": "stdout",
     "output_type": "stream",
     "text": [
      "{\"id\":\"cmpl-9LpFXxiC9E1Qgv6JLPJQiePBxinWX\",\"object\":\"text_completion\",\"created\":1714988919,\"model\":\"gpt-35-turbo-instruct\",\"prompt_filter_results\":[{\"prompt_index\":0,\"content_filter_results\":{\"hate\":{\"filtered\":false,\"severity\":\"safe\"},\"self_harm\":{\"filtered\":false,\"severity\":\"safe\"},\"sexual\":{\"filtered\":false,\"severity\":\"safe\"},\"violence\":{\"filtered\":false,\"severity\":\"safe\"}}}],\"choices\":[{\"text\":\" the doctor away\\n\\nThis phrase is a popular saying that suggests\",\"index\":0,\"finish_reason\":\"length\",\"logprobs\":null,\"content_filter_results\":{\"hate\":{\"filtered\":false,\"severity\":\"safe\"},\"self_harm\":{\"filtered\":false,\"severity\":\"safe\"},\"sexual\":{\"filtered\":false,\"severity\":\"safe\"},\"violence\":{\"filtered\":false,\"severity\":\"safe\"}}}],\"usage\":{\"prompt_tokens\":5,\"completion_tokens\":12,\"total_tokens\":17}}\n"
     ]
    },
    {
     "name": "stderr",
     "output_type": "stream",
     "text": [
      "  % Total    % Received % Xferd  Average Speed   Time    Time     Time  Current\n",
      "                                 Dload  Upload   Total   Spent    Left  Speed\n",
      "\n",
      "  0     0    0     0    0     0      0      0 --:--:-- --:--:-- --:--:--     0\n",
      "  0     0    0     0    0     0      0      0 --:--:-- --:--:-- --:--:--     0\n",
      "100   893  100   806  100    87   1610    173 --:--:-- --:--:-- --:--:--  1793\n"
     ]
    }
   ],
   "source": [
    "! {sh_command}"
   ]
  }
 ],
 "metadata": {
  "kernelspec": {
   "display_name": "aisearch_tmp_py39",
   "language": "python",
   "name": "python3"
  },
  "language_info": {
   "codemirror_mode": {
    "name": "ipython",
    "version": 3
   },
   "file_extension": ".py",
   "mimetype": "text/x-python",
   "name": "python",
   "nbconvert_exporter": "python",
   "pygments_lexer": "ipython3",
   "version": "3.9.19"
  }
 },
 "nbformat": 4,
 "nbformat_minor": 2
}
