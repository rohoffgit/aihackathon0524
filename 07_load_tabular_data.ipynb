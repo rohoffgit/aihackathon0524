{
 "cells": [
  {
   "cell_type": "markdown",
   "metadata": {},
   "source": [
    "## Prepare env once if needed"
   ]
  },
  {
   "cell_type": "code",
   "execution_count": null,
   "metadata": {},
   "outputs": [],
   "source": [
    "#! pip install pandas"
   ]
  },
  {
   "cell_type": "markdown",
   "metadata": {},
   "source": [
    "## Load TSV into pandas data frame"
   ]
  },
  {
   "cell_type": "code",
   "execution_count": 14,
   "metadata": {
    "metadata": {}
   },
   "outputs": [],
   "source": [
    "import os\n",
    "import pandas as pd\n",
    "\n",
    "documents_directory = os.path.join(\"data\")"
   ]
  },
  {
   "cell_type": "code",
   "execution_count": 15,
   "metadata": {
    "metadata": {}
   },
   "outputs": [
    {
     "name": "stdout",
     "output_type": "stream",
     "text": [
      "             name  Personal ID number type of examination code of the medical specialist primary or secondary medical check number of the medical document disease code\n",
      "0  Max Mustermann                7772                                               EX77                            primary                           MD77         DC77\n",
      "1   Susi Schuster                8882                                               EX88                          secondary                           MD88         DC88\n"
     ]
    }
   ],
   "source": [
    "df = pd.read_csv(os.path.join(documents_directory, 'user-db.tsv'), delimiter='\\t', header=0)\n",
    "\n",
    "print(df.to_string())"
   ]
  },
  {
   "cell_type": "markdown",
   "metadata": {},
   "source": [
    "#### Install Excel reader library once if needed"
   ]
  },
  {
   "cell_type": "code",
   "execution_count": 17,
   "metadata": {
    "metadata": {}
   },
   "outputs": [
    {
     "name": "stdout",
     "output_type": "stream",
     "text": [
      "Collecting openpyxl\n",
      "  Downloading openpyxl-3.1.2-py2.py3-none-any.whl.metadata (2.5 kB)\n",
      "Collecting et-xmlfile (from openpyxl)\n",
      "  Downloading et_xmlfile-1.1.0-py3-none-any.whl.metadata (1.8 kB)\n",
      "Downloading openpyxl-3.1.2-py2.py3-none-any.whl (249 kB)\n",
      "   ---------------------------------------- 0.0/250.0 kB ? eta -:--:--\n",
      "   - -------------------------------------- 10.2/250.0 kB ? eta -:--:--\n",
      "   - -------------------------------------- 10.2/250.0 kB ? eta -:--:--\n",
      "   ------ -------------------------------- 41.0/250.0 kB 326.8 kB/s eta 0:00:01\n",
      "   ------------------ ------------------- 122.9/250.0 kB 717.5 kB/s eta 0:00:01\n",
      "   ---------------------------------------- 250.0/250.0 kB 1.1 MB/s eta 0:00:00\n",
      "Downloading et_xmlfile-1.1.0-py3-none-any.whl (4.7 kB)\n",
      "Installing collected packages: et-xmlfile, openpyxl\n",
      "Successfully installed et-xmlfile-1.1.0 openpyxl-3.1.2\n"
     ]
    }
   ],
   "source": [
    "#! pip install openpyxl"
   ]
  },
  {
   "cell_type": "code",
   "execution_count": 18,
   "metadata": {
    "metadata": {}
   },
   "outputs": [
    {
     "name": "stdout",
     "output_type": "stream",
     "text": [
      "             name  Personal ID number type of examination code of the medical specialist primary or secondary medical check number of the medical document disease code\n",
      "0  Max Mustermann                7772                                               EX77                            primary                           MD77         DC77\n",
      "1   Susi Schuster                8882                                               EX88                          secondary                           MD88         DC88\n"
     ]
    }
   ],
   "source": [
    "pd.read_excel(os.path.join(documents_directory, 'user-db.xlsx'), header=0)\n",
    "\n",
    "print(df.to_string())"
   ]
  },
  {
   "cell_type": "markdown",
   "metadata": {},
   "source": [
    "## Iterate over rows of data frame"
   ]
  },
  {
   "cell_type": "code",
   "execution_count": 19,
   "metadata": {
    "metadata": {}
   },
   "outputs": [],
   "source": [
    "def normalize_row(in_dict):\n",
    "    out_dict = {\n",
    "        \"Name\": in_dict['name'],\n",
    "        \"DiseaseCode\": in_dict['disease code']\n",
    "    }\n",
    "\n",
    "    return out_dict"
   ]
  },
  {
   "cell_type": "code",
   "execution_count": 20,
   "metadata": {
    "metadata": {}
   },
   "outputs": [
    {
     "name": "stdout",
     "output_type": "stream",
     "text": [
      "{'name': 'Max Mustermann', 'Personal ID number': 7772, 'type of examination code of the medical specialist': 'EX77', 'primary or secondary medical check': 'primary', 'number of the medical document': 'MD77', 'disease code': 'DC77'}\n",
      "{'Name': 'Max Mustermann', 'DiseaseCode': 'DC77'}\n",
      "{'name': 'Susi Schuster', 'Personal ID number': 8882, 'type of examination code of the medical specialist': 'EX88', 'primary or secondary medical check': 'secondary', 'number of the medical document': 'MD88', 'disease code': 'DC88'}\n",
      "{'Name': 'Susi Schuster', 'DiseaseCode': 'DC88'}\n"
     ]
    }
   ],
   "source": [
    "for index, row in df.iterrows():\n",
    "    row_dict = row.to_dict()\n",
    "    print(row_dict)\n",
    "    print(normalize_row(row_dict))"
   ]
  }
 ],
 "metadata": {
  "kernelspec": {
   "display_name": "aisearch_tmp_py39",
   "language": "python",
   "name": "python3"
  },
  "language_info": {
   "codemirror_mode": {
    "name": "ipython",
    "version": 3
   },
   "file_extension": ".py",
   "mimetype": "text/x-python",
   "name": "python",
   "nbconvert_exporter": "python",
   "pygments_lexer": "ipython3",
   "version": "3.9.19"
  }
 },
 "nbformat": 4,
 "nbformat_minor": 2
}
