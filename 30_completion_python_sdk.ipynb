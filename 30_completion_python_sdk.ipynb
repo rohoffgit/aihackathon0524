{
 "cells": [
  {
   "cell_type": "markdown",
   "metadata": {},
   "source": [
    "https://learn.microsoft.com/en-us/azure/ai-services/openai/quickstart?tabs=command-line%2Cpython-new&pivots=programming-language-python"
   ]
  },
  {
   "cell_type": "markdown",
   "metadata": {},
   "source": [
    "### Setup environment once if needed "
   ]
  },
  {
   "cell_type": "code",
   "execution_count": 2,
   "metadata": {
    "metadata": {}
   },
   "outputs": [],
   "source": [
    "#! pip install openai"
   ]
  },
  {
   "cell_type": "code",
   "execution_count": 3,
   "metadata": {
    "metadata": {}
   },
   "outputs": [],
   "source": [
    "import os\n",
    "from dotenv import load_dotenv\n",
    "\n",
    "load_dotenv(override=True) # take environment variables from .env.\n",
    "\n",
    "AZURE_OPENAI_RESOURCE_NAME = os.environ[\"AZURE_OPENAI_RESOURCE_NAME\"]\n",
    "AZURE_OPENAI_API_KEY = os.environ[\"AZURE_OPENAI_API_KEY\"]"
   ]
  },
  {
   "cell_type": "markdown",
   "metadata": {},
   "source": [
    "### Define payload"
   ]
  },
  {
   "cell_type": "code",
   "execution_count": 8,
   "metadata": {
    "metadata": {}
   },
   "outputs": [],
   "source": [
    "AZURE_OPENAI_DEPLOYMENT = \"gpt-35-turbo-instruct-0914\"\n",
    "AZURE_OPENAI_API_VERSION = \"2024-02-01\"\n",
    "\n",
    "prompt = \"Write a tagline for an ice cream shop. \"\n",
    "max_tokens = 12\n",
    "temperature = 0"
   ]
  },
  {
   "cell_type": "markdown",
   "metadata": {},
   "source": [
    "### Make REST call via SDK"
   ]
  },
  {
   "cell_type": "code",
   "execution_count": 10,
   "metadata": {
    "metadata": {}
   },
   "outputs": [
    {
     "name": "stdout",
     "output_type": "stream",
     "text": [
      "Write a tagline for an ice cream shop. \n",
      "\n",
      "\"Scoops of happiness in every cone!\"\n"
     ]
    }
   ],
   "source": [
    "import os\n",
    "from openai import AzureOpenAI\n",
    "    \n",
    "client = AzureOpenAI(\n",
    "    api_key=AZURE_OPENAI_API_KEY,  \n",
    "    api_version=AZURE_OPENAI_API_VERSION,\n",
    "    azure_endpoint = f\"https://{AZURE_OPENAI_RESOURCE_NAME}.openai.azure.com/\"\n",
    "    )\n",
    "    \n",
    "response = client.completions.create(model=AZURE_OPENAI_DEPLOYMENT, prompt=prompt, max_tokens=max_tokens, temperature=temperature)\n",
    "print(prompt+response.choices[0].text)"
   ]
  }
 ],
 "metadata": {
  "kernelspec": {
   "display_name": "aisearch_tmp_py39",
   "language": "python",
   "name": "python3"
  },
  "language_info": {
   "codemirror_mode": {
    "name": "ipython",
    "version": 3
   },
   "file_extension": ".py",
   "mimetype": "text/x-python",
   "name": "python",
   "nbconvert_exporter": "python",
   "pygments_lexer": "ipython3",
   "version": "3.9.19"
  }
 },
 "nbformat": 4,
 "nbformat_minor": 2
}
